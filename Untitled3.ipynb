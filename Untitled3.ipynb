{
  "nbformat": 4,
  "nbformat_minor": 0,
  "metadata": {
    "colab": {
      "provenance": [],
      "mount_file_id": "1Sr52rmYGmQpu5ItK8fCKErjwjOXSfifr",
      "authorship_tag": "ABX9TyN2Zh1nrFkO7FT3N3W7Qzen",
      "include_colab_link": true
    },
    "kernelspec": {
      "name": "python3",
      "display_name": "Python 3"
    },
    "language_info": {
      "name": "python"
    }
  },
  "cells": [
    {
      "cell_type": "markdown",
      "metadata": {
        "id": "view-in-github",
        "colab_type": "text"
      },
      "source": [
        "<a href=\"https://colab.research.google.com/github/kfcond/2024python/blob/main/Untitled3.ipynb\" target=\"_parent\"><img src=\"https://colab.research.google.com/assets/colab-badge.svg\" alt=\"Open In Colab\"/></a>"
      ]
    },
    {
      "cell_type": "code",
      "execution_count": 1,
      "metadata": {
        "id": "i0Uh-BNdmKcw"
      },
      "outputs": [],
      "source": [
        "import csv\n",
        "f=open(\"/content/drive/MyDrive/ulsantemp.csv\")"
      ]
    },
    {
      "cell_type": "code",
      "source": [],
      "metadata": {
        "id": "ggBMlm32oOD5"
      },
      "execution_count": null,
      "outputs": []
    }
  ]
}